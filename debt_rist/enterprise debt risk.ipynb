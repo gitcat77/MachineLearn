{
 "cells": [
  {
   "cell_type": "code",
   "execution_count": 1,
   "metadata": {},
   "outputs": [
    {
     "name": "stdout",
     "output_type": "stream",
     "text": [
      "Looking in indexes: https://pypi.tuna.tsinghua.edu.cn/simple\n",
      "Requirement already satisfied: pymssql in d:\\anaconda\\lib\\site-packages (2.1.4)\n",
      "Note: you may need to restart the kernel to use updated packages.\n"
     ]
    }
   ],
   "source": [
    "pip install pymssql"
   ]
  },
  {
   "cell_type": "code",
   "execution_count": 2,
   "metadata": {
    "scrolled": true
   },
   "outputs": [],
   "source": [
    "import pymssql"
   ]
  },
  {
   "cell_type": "code",
   "execution_count": 3,
   "metadata": {},
   "outputs": [],
   "source": [
    "import pandas as pd\n",
    "import numpy as np\n",
    "from sklearn import preprocessing\n",
    "import numpy.linalg as nlg"
   ]
  },
  {
   "cell_type": "code",
   "execution_count": 83,
   "metadata": {},
   "outputs": [],
   "source": [
    "# def conn():\n",
    "#     connect = pymssql.connect('180.101.184.27','zhaiwu','datamind123','AnalysisData') #服务器名,账户,密码,数据库名\n",
    "#     if connect:\n",
    "#         print(\"连接成功!\")\n",
    "#     return connect"
   ]
  },
  {
   "cell_type": "code",
   "execution_count": 4,
   "metadata": {},
   "outputs": [],
   "source": [
    "conn= pymssql.connect('180.101.184.27','zhaiwu','datamind123','AnalysisData') #服务器名,账户,密码,数据库名"
   ]
  },
  {
   "cell_type": "code",
   "execution_count": 5,
   "metadata": {},
   "outputs": [],
   "source": [
    "# connect = pymssql.connect('180.101.184.27','zhaiwu','datamind123','AnalysisData')\n",
    "# cursor = connect.cursor()\n",
    "# sql = '''select CompanyId,sum_FinanceMoney,sum_DebtBalance,sum_ExcludeImplicitDebt_FinanceMoney,sum_GovernmentDebt_FinanceMoney,sum_ConcernedDebt_FinanceMoney,sum_OperationalDebt_FinanceMoney,sum_ImplicitDebt_FinanceMoney,\n",
    "# sum_ExcludeImplicitDebt_DebtBalance,sum_GovernmentDebt_DebtBalance,sum_ConcernedDebt_DebtBalance,sum_OperationalDebt_DebtBalance,sum_ImplicitDebt_DebtBalance,\n",
    "# count_ExcludeImplicitDebt,count_GovernmentDebt,count_ConcernedDebt,count_OperationalDebt,count_ImplicitDebt,sum_CreateAudit_FinanceMoney,\n",
    "# sum_ExtendAudit_FinanceMoney,sum_AdjustPlanAudit_FinanceMoney,sum_CreateAudit_DebtBalance,sum_ExtendAudit_DebtBalance,sum_AdjustPlanAudit_DebtBalance,sum_AddDebt_FinanceMoney,\n",
    "# sum_StockDebt_FinanceMoney,sum_ReplacementDebt_DebtBalance,sum_BankLoans_FinanceMoney,sum_CirculatingFund_FinanceMoney,sum_DirectFinance_FinanceMoney,sum_Others_FinanceMoney,sum_BankLoans_DebtBalance,sum_CirculatingFund_DebtBalance,\n",
    "# sum_DirectFinance_DebtBalance,sum_Others_DebtBalance,sum_WithdrawMoney,count_Warn,count_Overdue,Overdue_days,CurrentAssets_YearEndBalance,CurrentAssets_YearStartBalance,NotCurrentAssets_YearEndBalance,NotCurrentAssets_YearStartBalance,\n",
    "# AssetsTotal_YearEndBalance,AssetsTotal_YearStartBalance,CurrentLiabilities_YearEndBalance,CurrentLiabilities_YearStartBalance,LiabilitiesTotal_YearEndBalance,LiabilitiesTotal_YearStartBalance,TotalOwnersEquity_YearEndBalance,TotalOwnersEquity_YearStartBalance,\n",
    "# TotalLiabilitiesOwnersEquity_YearEndBalance,TotalLiabilitiesOwnersEquity_YearStartBalance,CurrentRatio_YearEndBalance,CurrentRatio_YearStartBalance,EquityDebtRatio_YearStartBalance,CurrentAssetsLiabilitiesTotalRatio_YearEndBalance,CurrentAssetsLiabilitiesTotalRatio_YearStartBalance,\n",
    "# OperatingAssetsTotalAssetsRatio_YearEndBalance,OperatingAssetsTotalAssetsRatio_YearStartBalance,AssetLiabilityRatio_YearEndBalance,AssetLiabilityRatio_YearStartBalance,sum_FundFlow_Income,sum_FundFlow_Expenditure,BigFlowWater_Income,BigFlowWater_Expenditure,count_Normal,count_StopPayment,\n",
    "# count_Cancelledt,sum_lowWater_Normal,sum_AccountBalance_Normal,sum_AvailableBalance_Normal,Capital\n",
    "# from  eb_Lgd_Debt_Base\n",
    "# '''\n",
    "# cursor.execute(sql)\n",
    "# row = cursor.fetchall()\n",
    "# cursor.close()\n",
    "# connect.close()"
   ]
  },
  {
   "cell_type": "code",
   "execution_count": 6,
   "metadata": {},
   "outputs": [],
   "source": [
    "# name=['CompanyId','sum_FinanceMoney','sum_DebtBalance','sum_ExcludeImplicitDebt_FinanceMoney','sum_GovernmentDebt_FinanceMoney','sum_ConcernedDebt_FinanceMoney','sum_OperationalDebt_FinanceMoney','sum_ImplicitDebt_FinanceMoney',\n",
    "# 'sum_ExcludeImplicitDebt_DebtBalance','sum_GovernmentDebt_DebtBalance','sum_ConcernedDebt_DebtBalance','sum_OperationalDebt_DebtBalance','sum_ImplicitDebt_DebtBalance',\n",
    "# 'count_ExcludeImplicitDebt','count_GovernmentDebt','count_ConcernedDebt','count_OperationalDebt','count_ImplicitDebt','sum_CreateAudit_FinanceMoney',\n",
    "# 'sum_ExtendAudit_FinanceMoney','sum_AdjustPlanAudit_FinanceMoney','sum_CreateAudit_DebtBalance','sum_ExtendAudit_DebtBalance','sum_AdjustPlanAudit_DebtBalance','sum_AddDebt_FinanceMoney',\n",
    "# 'sum_StockDebt_FinanceMoney','sum_ReplacementDebt_DebtBalance','sum_BankLoans_FinanceMoney','sum_CirculatingFund_FinanceMoney','sum_DirectFinance_FinanceMoney','sum_Others_FinanceMoney','sum_BankLoans_DebtBalance','sum_CirculatingFund_DebtBalance',\n",
    "# 'sum_DirectFinance_DebtBalance','sum_Others_DebtBalance','sum_WithdrawMoney','count_Warn','count_Overdue','Overdue_days','CurrentAssets_YearEndBalance','CurrentAssets_YearStartBalance','NotCurrentAssets_YearEndBalance','NotCurrentAssets_YearStartBalance',\n",
    "# 'AssetsTotal_YearEndBalance','AssetsTotal_YearStartBalance','CurrentLiabilities_YearEndBalance','CurrentLiabilities_YearStartBalance','LiabilitiesTotal_YearEndBalance','LiabilitiesTotal_YearStartBalance','TotalOwnersEquity_YearEndBalance','TotalOwnersEquity_YearStartBalance',\n",
    "# 'TotalLiabilitiesOwnersEquity_YearEndBalance','TotalLiabilitiesOwnersEquity_YearStartBalance','CurrentRatio_YearEndBalance','CurrentRatio_YearStartBalance','EquityDebtRatio_YearStartBalance','CurrentAssetsLiabilitiesTotalRatio_YearEndBalance','CurrentAssetsLiabilitiesTotalRatio_YearStartBalance',\n",
    "# 'OperatingAssetsTotalAssetsRatio_YearEndBalance','OperatingAssetsTotalAssetsRatio_YearStartBalance','AssetLiabilityRatio_YearEndBalance','AssetLiabilityRatio_YearStartBalance','sum_FundFlow_Income','sum_FundFlow_Expenditure','BigFlowWater_Income','BigFlowWater_Expenditure','count_Normal','count_StopPayment',\n",
    "# 'count_Cancelledt','sum_lowWater_Normal','sum_AccountBalance_Normal','sum_AvailableBalance_Normal','Capital']\n"
   ]
  },
  {
   "cell_type": "code",
   "execution_count": 5,
   "metadata": {},
   "outputs": [],
   "source": [
    "#筛选变量\n",
    "# connect = pymssql.connect('180.101.184.27','zhaiwu','datamind123','AnalysisData')\n",
    "# cursor = connect.cursor()\n",
    "sql = '''select CompanyId,sum_FinanceMoney,sum_DebtBalance,sum_OperationalDebt_FinanceMoney,sum_ImplicitDebt_FinanceMoney,\n",
    "sum_OperationalDebt_DebtBalance,sum_ImplicitDebt_DebtBalance,\n",
    "sum_CreateAudit_FinanceMoney,\n",
    "sum_CreateAudit_DebtBalance,\n",
    "sum_StockDebt_FinanceMoney,sum_DirectFinance_FinanceMoney,sum_Others_FinanceMoney,\n",
    "sum_DirectFinance_DebtBalance,sum_Others_DebtBalance,sum_WithdrawMoney,CurrentAssets_YearEndBalance,\n",
    "CurrentAssets_YearStartBalance,NotCurrentAssets_YearEndBalance,NotCurrentAssets_YearStartBalance,\n",
    "AssetsTotal_YearEndBalance,AssetsTotal_YearStartBalance,LiabilitiesTotal_YearEndBalance,LiabilitiesTotal_YearStartBalance,\n",
    "TotalOwnersEquity_YearEndBalance,\n",
    "TotalLiabilitiesOwnersEquity_YearEndBalance,TotalLiabilitiesOwnersEquity_YearStartBalance,\n",
    "sum_AccountBalance_Normal,sum_AvailableBalance_Normal,Capital\n",
    "from  eb_Lgd_Debt_Base\n",
    "'''\n",
    "# cursor.execute(sql)\n",
    "# row = cursor.fetchall()\n",
    "# cursor.close()\n",
    "# connect.close()"
   ]
  },
  {
   "cell_type": "code",
   "execution_count": 6,
   "metadata": {},
   "outputs": [],
   "source": [
    "name=['sum_FinanceMoney','sum_DebtBalance','sum_OperationalDebt_FinanceMoney','sum_ImplicitDebt_FinanceMoney',\n",
    "'sum_OperationalDebt_DebtBalance','sum_ImplicitDebt_DebtBalance',\n",
    "'sum_CreateAudit_FinanceMoney',\n",
    "'sum_CreateAudit_DebtBalance',\n",
    "'sum_StockDebt_FinanceMoney','sum_DirectFinance_FinanceMoney','sum_Others_FinanceMoney',\n",
    "'sum_DirectFinance_DebtBalance','sum_Others_DebtBalance','sum_WithdrawMoney','CurrentAssets_YearEndBalance',\n",
    "'CurrentAssets_YearStartBalance','NotCurrentAssets_YearEndBalance','NotCurrentAssets_YearStartBalance',\n",
    "'AssetsTotal_YearEndBalance','AssetsTotal_YearStartBalance','LiabilitiesTotal_YearEndBalance','LiabilitiesTotal_YearStartBalance',\n",
    "'TotalOwnersEquity_YearEndBalance',\n",
    "'TotalLiabilitiesOwnersEquity_YearEndBalance','TotalLiabilitiesOwnersEquity_YearStartBalance',\n",
    "'sum_AccountBalance_Normal','sum_AvailableBalance_Normal','Capital']"
   ]
  },
  {
   "cell_type": "code",
   "execution_count": 7,
   "metadata": {},
   "outputs": [],
   "source": [
    "#将df数据转化成DataFrame格式\n",
    "# df1=pd.DataFrame(row,columns=name)\n",
    "# df.drop(df1.iloc[:,:1],axis=1,inplace=True)\n",
    "\n",
    "df1=pd.read_sql(sql,conn)\n",
    "df1 = df1.fillna(0)\n",
    "conn.close()\n",
    "df = df1[name]"
   ]
  },
  {
   "cell_type": "code",
   "execution_count": 10,
   "metadata": {
    "scrolled": true
   },
   "outputs": [
    {
     "data": {
      "text/html": [
       "<div>\n",
       "<style scoped>\n",
       "    .dataframe tbody tr th:only-of-type {\n",
       "        vertical-align: middle;\n",
       "    }\n",
       "\n",
       "    .dataframe tbody tr th {\n",
       "        vertical-align: top;\n",
       "    }\n",
       "\n",
       "    .dataframe thead th {\n",
       "        text-align: right;\n",
       "    }\n",
       "</style>\n",
       "<table border=\"1\" class=\"dataframe\">\n",
       "  <thead>\n",
       "    <tr style=\"text-align: right;\">\n",
       "      <th></th>\n",
       "      <th>sum_FinanceMoney</th>\n",
       "      <th>sum_DebtBalance</th>\n",
       "      <th>sum_OperationalDebt_FinanceMoney</th>\n",
       "      <th>sum_ImplicitDebt_FinanceMoney</th>\n",
       "      <th>sum_OperationalDebt_DebtBalance</th>\n",
       "      <th>sum_ImplicitDebt_DebtBalance</th>\n",
       "      <th>sum_CreateAudit_FinanceMoney</th>\n",
       "      <th>sum_CreateAudit_DebtBalance</th>\n",
       "      <th>sum_StockDebt_FinanceMoney</th>\n",
       "      <th>sum_DirectFinance_FinanceMoney</th>\n",
       "      <th>...</th>\n",
       "      <th>AssetsTotal_YearEndBalance</th>\n",
       "      <th>AssetsTotal_YearStartBalance</th>\n",
       "      <th>LiabilitiesTotal_YearEndBalance</th>\n",
       "      <th>LiabilitiesTotal_YearStartBalance</th>\n",
       "      <th>TotalOwnersEquity_YearEndBalance</th>\n",
       "      <th>TotalLiabilitiesOwnersEquity_YearEndBalance</th>\n",
       "      <th>TotalLiabilitiesOwnersEquity_YearStartBalance</th>\n",
       "      <th>sum_AccountBalance_Normal</th>\n",
       "      <th>sum_AvailableBalance_Normal</th>\n",
       "      <th>Capital</th>\n",
       "    </tr>\n",
       "  </thead>\n",
       "  <tbody>\n",
       "    <tr>\n",
       "      <th>0</th>\n",
       "      <td>37350.00</td>\n",
       "      <td>17600.00000</td>\n",
       "      <td>0.0</td>\n",
       "      <td>18350.00</td>\n",
       "      <td>0.0</td>\n",
       "      <td>16950.00000</td>\n",
       "      <td>37350.00</td>\n",
       "      <td>17600.00000</td>\n",
       "      <td>0.00</td>\n",
       "      <td>0.0</td>\n",
       "      <td>...</td>\n",
       "      <td>3.343530e+08</td>\n",
       "      <td>1.399637e+08</td>\n",
       "      <td>3.807051e+08</td>\n",
       "      <td>1.889645e+08</td>\n",
       "      <td>-4.635208e+07</td>\n",
       "      <td>3.343530e+08</td>\n",
       "      <td>1.399637e+08</td>\n",
       "      <td>154.581469</td>\n",
       "      <td>154.581469</td>\n",
       "      <td>3000.0</td>\n",
       "    </tr>\n",
       "    <tr>\n",
       "      <th>1</th>\n",
       "      <td>257100.00</td>\n",
       "      <td>204850.00000</td>\n",
       "      <td>80500.0</td>\n",
       "      <td>176600.00</td>\n",
       "      <td>64650.0</td>\n",
       "      <td>140200.00000</td>\n",
       "      <td>130100.00</td>\n",
       "      <td>109250.00000</td>\n",
       "      <td>185000.00</td>\n",
       "      <td>0.0</td>\n",
       "      <td>...</td>\n",
       "      <td>4.317420e+09</td>\n",
       "      <td>3.903925e+09</td>\n",
       "      <td>2.967420e+09</td>\n",
       "      <td>2.553925e+09</td>\n",
       "      <td>1.350000e+09</td>\n",
       "      <td>4.317420e+09</td>\n",
       "      <td>3.903925e+09</td>\n",
       "      <td>155983.274620</td>\n",
       "      <td>136983.274620</td>\n",
       "      <td>135000.0</td>\n",
       "    </tr>\n",
       "    <tr>\n",
       "      <th>2</th>\n",
       "      <td>9000.00</td>\n",
       "      <td>9000.00000</td>\n",
       "      <td>0.0</td>\n",
       "      <td>9000.00</td>\n",
       "      <td>0.0</td>\n",
       "      <td>9000.00000</td>\n",
       "      <td>4000.00</td>\n",
       "      <td>4000.00000</td>\n",
       "      <td>5000.00</td>\n",
       "      <td>0.0</td>\n",
       "      <td>...</td>\n",
       "      <td>1.309180e+09</td>\n",
       "      <td>2.378234e+08</td>\n",
       "      <td>1.116632e+09</td>\n",
       "      <td>1.656369e+08</td>\n",
       "      <td>1.952559e+08</td>\n",
       "      <td>1.311888e+09</td>\n",
       "      <td>2.378234e+08</td>\n",
       "      <td>48811.166249</td>\n",
       "      <td>5810.586401</td>\n",
       "      <td>2000.0</td>\n",
       "    </tr>\n",
       "    <tr>\n",
       "      <th>3</th>\n",
       "      <td>43118.00</td>\n",
       "      <td>14127.62480</td>\n",
       "      <td>0.0</td>\n",
       "      <td>43118.00</td>\n",
       "      <td>0.0</td>\n",
       "      <td>14127.62480</td>\n",
       "      <td>28152.00</td>\n",
       "      <td>10634.62480</td>\n",
       "      <td>43118.00</td>\n",
       "      <td>0.0</td>\n",
       "      <td>...</td>\n",
       "      <td>0.000000e+00</td>\n",
       "      <td>0.000000e+00</td>\n",
       "      <td>0.000000e+00</td>\n",
       "      <td>0.000000e+00</td>\n",
       "      <td>0.000000e+00</td>\n",
       "      <td>0.000000e+00</td>\n",
       "      <td>0.000000e+00</td>\n",
       "      <td>0.000000</td>\n",
       "      <td>0.000000</td>\n",
       "      <td>0.0</td>\n",
       "    </tr>\n",
       "    <tr>\n",
       "      <th>4</th>\n",
       "      <td>39000.00</td>\n",
       "      <td>17000.00000</td>\n",
       "      <td>0.0</td>\n",
       "      <td>39000.00</td>\n",
       "      <td>0.0</td>\n",
       "      <td>17000.00000</td>\n",
       "      <td>39000.00</td>\n",
       "      <td>17000.00000</td>\n",
       "      <td>17000.00</td>\n",
       "      <td>0.0</td>\n",
       "      <td>...</td>\n",
       "      <td>2.711921e+08</td>\n",
       "      <td>4.462554e+08</td>\n",
       "      <td>2.473749e+08</td>\n",
       "      <td>4.234749e+08</td>\n",
       "      <td>2.381719e+07</td>\n",
       "      <td>2.711921e+08</td>\n",
       "      <td>4.462554e+08</td>\n",
       "      <td>1815.095256</td>\n",
       "      <td>1815.095256</td>\n",
       "      <td>2000.0</td>\n",
       "    </tr>\n",
       "    <tr>\n",
       "      <th>5</th>\n",
       "      <td>1000.00</td>\n",
       "      <td>500.00000</td>\n",
       "      <td>0.0</td>\n",
       "      <td>1000.00</td>\n",
       "      <td>0.0</td>\n",
       "      <td>500.00000</td>\n",
       "      <td>1000.00</td>\n",
       "      <td>500.00000</td>\n",
       "      <td>500.00</td>\n",
       "      <td>0.0</td>\n",
       "      <td>...</td>\n",
       "      <td>0.000000e+00</td>\n",
       "      <td>0.000000e+00</td>\n",
       "      <td>0.000000e+00</td>\n",
       "      <td>0.000000e+00</td>\n",
       "      <td>0.000000e+00</td>\n",
       "      <td>0.000000e+00</td>\n",
       "      <td>0.000000e+00</td>\n",
       "      <td>1.729708</td>\n",
       "      <td>1.729708</td>\n",
       "      <td>1800.0</td>\n",
       "    </tr>\n",
       "    <tr>\n",
       "      <th>6</th>\n",
       "      <td>3656.33</td>\n",
       "      <td>771.24000</td>\n",
       "      <td>0.0</td>\n",
       "      <td>3656.33</td>\n",
       "      <td>0.0</td>\n",
       "      <td>771.24000</td>\n",
       "      <td>3656.33</td>\n",
       "      <td>771.24000</td>\n",
       "      <td>3656.33</td>\n",
       "      <td>0.0</td>\n",
       "      <td>...</td>\n",
       "      <td>0.000000e+00</td>\n",
       "      <td>0.000000e+00</td>\n",
       "      <td>0.000000e+00</td>\n",
       "      <td>0.000000e+00</td>\n",
       "      <td>0.000000e+00</td>\n",
       "      <td>0.000000e+00</td>\n",
       "      <td>0.000000e+00</td>\n",
       "      <td>11.581847</td>\n",
       "      <td>11.581847</td>\n",
       "      <td>0.0</td>\n",
       "    </tr>\n",
       "    <tr>\n",
       "      <th>7</th>\n",
       "      <td>234100.00</td>\n",
       "      <td>146150.00000</td>\n",
       "      <td>0.0</td>\n",
       "      <td>191400.00</td>\n",
       "      <td>0.0</td>\n",
       "      <td>118450.00000</td>\n",
       "      <td>203600.00</td>\n",
       "      <td>135250.00000</td>\n",
       "      <td>178500.00</td>\n",
       "      <td>0.0</td>\n",
       "      <td>...</td>\n",
       "      <td>0.000000e+00</td>\n",
       "      <td>0.000000e+00</td>\n",
       "      <td>0.000000e+00</td>\n",
       "      <td>0.000000e+00</td>\n",
       "      <td>0.000000e+00</td>\n",
       "      <td>0.000000e+00</td>\n",
       "      <td>0.000000e+00</td>\n",
       "      <td>20373.593195</td>\n",
       "      <td>20212.443287</td>\n",
       "      <td>30000.0</td>\n",
       "    </tr>\n",
       "    <tr>\n",
       "      <th>8</th>\n",
       "      <td>63051.00</td>\n",
       "      <td>35275.00000</td>\n",
       "      <td>4400.0</td>\n",
       "      <td>58651.00</td>\n",
       "      <td>4400.0</td>\n",
       "      <td>30875.00000</td>\n",
       "      <td>63051.00</td>\n",
       "      <td>35275.00000</td>\n",
       "      <td>37376.00</td>\n",
       "      <td>0.0</td>\n",
       "      <td>...</td>\n",
       "      <td>4.689374e+08</td>\n",
       "      <td>2.914963e+08</td>\n",
       "      <td>4.185462e+08</td>\n",
       "      <td>2.385462e+08</td>\n",
       "      <td>5.039118e+07</td>\n",
       "      <td>4.689374e+08</td>\n",
       "      <td>2.914963e+08</td>\n",
       "      <td>14926.551545</td>\n",
       "      <td>14876.738792</td>\n",
       "      <td>8000.0</td>\n",
       "    </tr>\n",
       "    <tr>\n",
       "      <th>9</th>\n",
       "      <td>15000.00</td>\n",
       "      <td>14175.00005</td>\n",
       "      <td>0.0</td>\n",
       "      <td>10000.00</td>\n",
       "      <td>0.0</td>\n",
       "      <td>9450.00005</td>\n",
       "      <td>15000.00</td>\n",
       "      <td>14175.00005</td>\n",
       "      <td>15000.00</td>\n",
       "      <td>0.0</td>\n",
       "      <td>...</td>\n",
       "      <td>2.114937e+09</td>\n",
       "      <td>1.977627e+09</td>\n",
       "      <td>1.819284e+09</td>\n",
       "      <td>6.898069e+08</td>\n",
       "      <td>2.956528e+08</td>\n",
       "      <td>2.114937e+09</td>\n",
       "      <td>1.977627e+09</td>\n",
       "      <td>8708.174050</td>\n",
       "      <td>8708.174050</td>\n",
       "      <td>27100.0</td>\n",
       "    </tr>\n",
       "  </tbody>\n",
       "</table>\n",
       "<p>10 rows × 28 columns</p>\n",
       "</div>"
      ],
      "text/plain": [
       "   sum_FinanceMoney  sum_DebtBalance  sum_OperationalDebt_FinanceMoney  \\\n",
       "0          37350.00      17600.00000                               0.0   \n",
       "1         257100.00     204850.00000                           80500.0   \n",
       "2           9000.00       9000.00000                               0.0   \n",
       "3          43118.00      14127.62480                               0.0   \n",
       "4          39000.00      17000.00000                               0.0   \n",
       "5           1000.00        500.00000                               0.0   \n",
       "6           3656.33        771.24000                               0.0   \n",
       "7         234100.00     146150.00000                               0.0   \n",
       "8          63051.00      35275.00000                            4400.0   \n",
       "9          15000.00      14175.00005                               0.0   \n",
       "\n",
       "   sum_ImplicitDebt_FinanceMoney  sum_OperationalDebt_DebtBalance  \\\n",
       "0                       18350.00                              0.0   \n",
       "1                      176600.00                          64650.0   \n",
       "2                        9000.00                              0.0   \n",
       "3                       43118.00                              0.0   \n",
       "4                       39000.00                              0.0   \n",
       "5                        1000.00                              0.0   \n",
       "6                        3656.33                              0.0   \n",
       "7                      191400.00                              0.0   \n",
       "8                       58651.00                           4400.0   \n",
       "9                       10000.00                              0.0   \n",
       "\n",
       "   sum_ImplicitDebt_DebtBalance  sum_CreateAudit_FinanceMoney  \\\n",
       "0                   16950.00000                      37350.00   \n",
       "1                  140200.00000                     130100.00   \n",
       "2                    9000.00000                       4000.00   \n",
       "3                   14127.62480                      28152.00   \n",
       "4                   17000.00000                      39000.00   \n",
       "5                     500.00000                       1000.00   \n",
       "6                     771.24000                       3656.33   \n",
       "7                  118450.00000                     203600.00   \n",
       "8                   30875.00000                      63051.00   \n",
       "9                    9450.00005                      15000.00   \n",
       "\n",
       "   sum_CreateAudit_DebtBalance  sum_StockDebt_FinanceMoney  \\\n",
       "0                  17600.00000                        0.00   \n",
       "1                 109250.00000                   185000.00   \n",
       "2                   4000.00000                     5000.00   \n",
       "3                  10634.62480                    43118.00   \n",
       "4                  17000.00000                    17000.00   \n",
       "5                    500.00000                      500.00   \n",
       "6                    771.24000                     3656.33   \n",
       "7                 135250.00000                   178500.00   \n",
       "8                  35275.00000                    37376.00   \n",
       "9                  14175.00005                    15000.00   \n",
       "\n",
       "   sum_DirectFinance_FinanceMoney  ...  AssetsTotal_YearEndBalance  \\\n",
       "0                             0.0  ...                3.343530e+08   \n",
       "1                             0.0  ...                4.317420e+09   \n",
       "2                             0.0  ...                1.309180e+09   \n",
       "3                             0.0  ...                0.000000e+00   \n",
       "4                             0.0  ...                2.711921e+08   \n",
       "5                             0.0  ...                0.000000e+00   \n",
       "6                             0.0  ...                0.000000e+00   \n",
       "7                             0.0  ...                0.000000e+00   \n",
       "8                             0.0  ...                4.689374e+08   \n",
       "9                             0.0  ...                2.114937e+09   \n",
       "\n",
       "   AssetsTotal_YearStartBalance  LiabilitiesTotal_YearEndBalance  \\\n",
       "0                  1.399637e+08                     3.807051e+08   \n",
       "1                  3.903925e+09                     2.967420e+09   \n",
       "2                  2.378234e+08                     1.116632e+09   \n",
       "3                  0.000000e+00                     0.000000e+00   \n",
       "4                  4.462554e+08                     2.473749e+08   \n",
       "5                  0.000000e+00                     0.000000e+00   \n",
       "6                  0.000000e+00                     0.000000e+00   \n",
       "7                  0.000000e+00                     0.000000e+00   \n",
       "8                  2.914963e+08                     4.185462e+08   \n",
       "9                  1.977627e+09                     1.819284e+09   \n",
       "\n",
       "   LiabilitiesTotal_YearStartBalance  TotalOwnersEquity_YearEndBalance  \\\n",
       "0                       1.889645e+08                     -4.635208e+07   \n",
       "1                       2.553925e+09                      1.350000e+09   \n",
       "2                       1.656369e+08                      1.952559e+08   \n",
       "3                       0.000000e+00                      0.000000e+00   \n",
       "4                       4.234749e+08                      2.381719e+07   \n",
       "5                       0.000000e+00                      0.000000e+00   \n",
       "6                       0.000000e+00                      0.000000e+00   \n",
       "7                       0.000000e+00                      0.000000e+00   \n",
       "8                       2.385462e+08                      5.039118e+07   \n",
       "9                       6.898069e+08                      2.956528e+08   \n",
       "\n",
       "   TotalLiabilitiesOwnersEquity_YearEndBalance  \\\n",
       "0                                 3.343530e+08   \n",
       "1                                 4.317420e+09   \n",
       "2                                 1.311888e+09   \n",
       "3                                 0.000000e+00   \n",
       "4                                 2.711921e+08   \n",
       "5                                 0.000000e+00   \n",
       "6                                 0.000000e+00   \n",
       "7                                 0.000000e+00   \n",
       "8                                 4.689374e+08   \n",
       "9                                 2.114937e+09   \n",
       "\n",
       "   TotalLiabilitiesOwnersEquity_YearStartBalance  sum_AccountBalance_Normal  \\\n",
       "0                                   1.399637e+08                 154.581469   \n",
       "1                                   3.903925e+09              155983.274620   \n",
       "2                                   2.378234e+08               48811.166249   \n",
       "3                                   0.000000e+00                   0.000000   \n",
       "4                                   4.462554e+08                1815.095256   \n",
       "5                                   0.000000e+00                   1.729708   \n",
       "6                                   0.000000e+00                  11.581847   \n",
       "7                                   0.000000e+00               20373.593195   \n",
       "8                                   2.914963e+08               14926.551545   \n",
       "9                                   1.977627e+09                8708.174050   \n",
       "\n",
       "   sum_AvailableBalance_Normal   Capital  \n",
       "0                   154.581469    3000.0  \n",
       "1                136983.274620  135000.0  \n",
       "2                  5810.586401    2000.0  \n",
       "3                     0.000000       0.0  \n",
       "4                  1815.095256    2000.0  \n",
       "5                     1.729708    1800.0  \n",
       "6                    11.581847       0.0  \n",
       "7                 20212.443287   30000.0  \n",
       "8                 14876.738792    8000.0  \n",
       "9                  8708.174050   27100.0  \n",
       "\n",
       "[10 rows x 28 columns]"
      ]
     },
     "execution_count": 10,
     "metadata": {},
     "output_type": "execute_result"
    }
   ],
   "source": [
    "df.head(10)"
   ]
  },
  {
   "cell_type": "code",
   "execution_count": 27,
   "metadata": {},
   "outputs": [],
   "source": [
    "# df = df.astype(float)"
   ]
  },
  {
   "cell_type": "code",
   "execution_count": 12,
   "metadata": {},
   "outputs": [
    {
     "data": {
      "text/html": [
       "<div>\n",
       "<style scoped>\n",
       "    .dataframe tbody tr th:only-of-type {\n",
       "        vertical-align: middle;\n",
       "    }\n",
       "\n",
       "    .dataframe tbody tr th {\n",
       "        vertical-align: top;\n",
       "    }\n",
       "\n",
       "    .dataframe thead th {\n",
       "        text-align: right;\n",
       "    }\n",
       "</style>\n",
       "<table border=\"1\" class=\"dataframe\">\n",
       "  <thead>\n",
       "    <tr style=\"text-align: right;\">\n",
       "      <th></th>\n",
       "      <th>sum_FinanceMoney</th>\n",
       "      <th>sum_DebtBalance</th>\n",
       "      <th>sum_OperationalDebt_FinanceMoney</th>\n",
       "      <th>sum_ImplicitDebt_FinanceMoney</th>\n",
       "      <th>sum_OperationalDebt_DebtBalance</th>\n",
       "      <th>sum_ImplicitDebt_DebtBalance</th>\n",
       "      <th>sum_CreateAudit_FinanceMoney</th>\n",
       "      <th>sum_CreateAudit_DebtBalance</th>\n",
       "      <th>sum_StockDebt_FinanceMoney</th>\n",
       "      <th>sum_DirectFinance_FinanceMoney</th>\n",
       "      <th>...</th>\n",
       "      <th>AssetsTotal_YearEndBalance</th>\n",
       "      <th>AssetsTotal_YearStartBalance</th>\n",
       "      <th>LiabilitiesTotal_YearEndBalance</th>\n",
       "      <th>LiabilitiesTotal_YearStartBalance</th>\n",
       "      <th>TotalOwnersEquity_YearEndBalance</th>\n",
       "      <th>TotalLiabilitiesOwnersEquity_YearEndBalance</th>\n",
       "      <th>TotalLiabilitiesOwnersEquity_YearStartBalance</th>\n",
       "      <th>sum_AccountBalance_Normal</th>\n",
       "      <th>sum_AvailableBalance_Normal</th>\n",
       "      <th>Capital</th>\n",
       "    </tr>\n",
       "  </thead>\n",
       "  <tbody>\n",
       "    <tr>\n",
       "      <th>0</th>\n",
       "      <td>37350.0</td>\n",
       "      <td>17600.0000</td>\n",
       "      <td>0.0</td>\n",
       "      <td>18350.0</td>\n",
       "      <td>0.0</td>\n",
       "      <td>16950.0000</td>\n",
       "      <td>37350.0</td>\n",
       "      <td>17600.0000</td>\n",
       "      <td>0.0</td>\n",
       "      <td>0.0</td>\n",
       "      <td>...</td>\n",
       "      <td>3.343530e+08</td>\n",
       "      <td>1.399637e+08</td>\n",
       "      <td>3.807051e+08</td>\n",
       "      <td>1.889645e+08</td>\n",
       "      <td>-4.635208e+07</td>\n",
       "      <td>3.343530e+08</td>\n",
       "      <td>1.399637e+08</td>\n",
       "      <td>154.581469</td>\n",
       "      <td>154.581469</td>\n",
       "      <td>3000.0</td>\n",
       "    </tr>\n",
       "    <tr>\n",
       "      <th>1</th>\n",
       "      <td>257100.0</td>\n",
       "      <td>204850.0000</td>\n",
       "      <td>80500.0</td>\n",
       "      <td>176600.0</td>\n",
       "      <td>64650.0</td>\n",
       "      <td>140200.0000</td>\n",
       "      <td>130100.0</td>\n",
       "      <td>109250.0000</td>\n",
       "      <td>185000.0</td>\n",
       "      <td>0.0</td>\n",
       "      <td>...</td>\n",
       "      <td>4.317420e+09</td>\n",
       "      <td>3.903925e+09</td>\n",
       "      <td>2.967420e+09</td>\n",
       "      <td>2.553925e+09</td>\n",
       "      <td>1.350000e+09</td>\n",
       "      <td>4.317420e+09</td>\n",
       "      <td>3.903925e+09</td>\n",
       "      <td>155983.274620</td>\n",
       "      <td>136983.274620</td>\n",
       "      <td>135000.0</td>\n",
       "    </tr>\n",
       "    <tr>\n",
       "      <th>2</th>\n",
       "      <td>9000.0</td>\n",
       "      <td>9000.0000</td>\n",
       "      <td>0.0</td>\n",
       "      <td>9000.0</td>\n",
       "      <td>0.0</td>\n",
       "      <td>9000.0000</td>\n",
       "      <td>4000.0</td>\n",
       "      <td>4000.0000</td>\n",
       "      <td>5000.0</td>\n",
       "      <td>0.0</td>\n",
       "      <td>...</td>\n",
       "      <td>1.309180e+09</td>\n",
       "      <td>2.378234e+08</td>\n",
       "      <td>1.116632e+09</td>\n",
       "      <td>1.656369e+08</td>\n",
       "      <td>1.952559e+08</td>\n",
       "      <td>1.311888e+09</td>\n",
       "      <td>2.378234e+08</td>\n",
       "      <td>48811.166249</td>\n",
       "      <td>5810.586401</td>\n",
       "      <td>2000.0</td>\n",
       "    </tr>\n",
       "    <tr>\n",
       "      <th>3</th>\n",
       "      <td>43118.0</td>\n",
       "      <td>14127.6248</td>\n",
       "      <td>0.0</td>\n",
       "      <td>43118.0</td>\n",
       "      <td>0.0</td>\n",
       "      <td>14127.6248</td>\n",
       "      <td>28152.0</td>\n",
       "      <td>10634.6248</td>\n",
       "      <td>43118.0</td>\n",
       "      <td>0.0</td>\n",
       "      <td>...</td>\n",
       "      <td>NaN</td>\n",
       "      <td>NaN</td>\n",
       "      <td>NaN</td>\n",
       "      <td>NaN</td>\n",
       "      <td>NaN</td>\n",
       "      <td>NaN</td>\n",
       "      <td>NaN</td>\n",
       "      <td>0.000000</td>\n",
       "      <td>0.000000</td>\n",
       "      <td>NaN</td>\n",
       "    </tr>\n",
       "    <tr>\n",
       "      <th>4</th>\n",
       "      <td>39000.0</td>\n",
       "      <td>17000.0000</td>\n",
       "      <td>0.0</td>\n",
       "      <td>39000.0</td>\n",
       "      <td>0.0</td>\n",
       "      <td>17000.0000</td>\n",
       "      <td>39000.0</td>\n",
       "      <td>17000.0000</td>\n",
       "      <td>17000.0</td>\n",
       "      <td>0.0</td>\n",
       "      <td>...</td>\n",
       "      <td>2.711921e+08</td>\n",
       "      <td>4.462554e+08</td>\n",
       "      <td>2.473749e+08</td>\n",
       "      <td>4.234749e+08</td>\n",
       "      <td>2.381719e+07</td>\n",
       "      <td>2.711921e+08</td>\n",
       "      <td>4.462554e+08</td>\n",
       "      <td>1815.095256</td>\n",
       "      <td>1815.095256</td>\n",
       "      <td>2000.0</td>\n",
       "    </tr>\n",
       "  </tbody>\n",
       "</table>\n",
       "<p>5 rows × 28 columns</p>\n",
       "</div>"
      ],
      "text/plain": [
       "   sum_FinanceMoney  sum_DebtBalance  sum_OperationalDebt_FinanceMoney  \\\n",
       "0           37350.0       17600.0000                               0.0   \n",
       "1          257100.0      204850.0000                           80500.0   \n",
       "2            9000.0        9000.0000                               0.0   \n",
       "3           43118.0       14127.6248                               0.0   \n",
       "4           39000.0       17000.0000                               0.0   \n",
       "\n",
       "   sum_ImplicitDebt_FinanceMoney  sum_OperationalDebt_DebtBalance  \\\n",
       "0                        18350.0                              0.0   \n",
       "1                       176600.0                          64650.0   \n",
       "2                         9000.0                              0.0   \n",
       "3                        43118.0                              0.0   \n",
       "4                        39000.0                              0.0   \n",
       "\n",
       "   sum_ImplicitDebt_DebtBalance  sum_CreateAudit_FinanceMoney  \\\n",
       "0                    16950.0000                       37350.0   \n",
       "1                   140200.0000                      130100.0   \n",
       "2                     9000.0000                        4000.0   \n",
       "3                    14127.6248                       28152.0   \n",
       "4                    17000.0000                       39000.0   \n",
       "\n",
       "   sum_CreateAudit_DebtBalance  sum_StockDebt_FinanceMoney  \\\n",
       "0                   17600.0000                         0.0   \n",
       "1                  109250.0000                    185000.0   \n",
       "2                    4000.0000                      5000.0   \n",
       "3                   10634.6248                     43118.0   \n",
       "4                   17000.0000                     17000.0   \n",
       "\n",
       "   sum_DirectFinance_FinanceMoney  ...  AssetsTotal_YearEndBalance  \\\n",
       "0                             0.0  ...                3.343530e+08   \n",
       "1                             0.0  ...                4.317420e+09   \n",
       "2                             0.0  ...                1.309180e+09   \n",
       "3                             0.0  ...                         NaN   \n",
       "4                             0.0  ...                2.711921e+08   \n",
       "\n",
       "   AssetsTotal_YearStartBalance  LiabilitiesTotal_YearEndBalance  \\\n",
       "0                  1.399637e+08                     3.807051e+08   \n",
       "1                  3.903925e+09                     2.967420e+09   \n",
       "2                  2.378234e+08                     1.116632e+09   \n",
       "3                           NaN                              NaN   \n",
       "4                  4.462554e+08                     2.473749e+08   \n",
       "\n",
       "   LiabilitiesTotal_YearStartBalance  TotalOwnersEquity_YearEndBalance  \\\n",
       "0                       1.889645e+08                     -4.635208e+07   \n",
       "1                       2.553925e+09                      1.350000e+09   \n",
       "2                       1.656369e+08                      1.952559e+08   \n",
       "3                                NaN                               NaN   \n",
       "4                       4.234749e+08                      2.381719e+07   \n",
       "\n",
       "   TotalLiabilitiesOwnersEquity_YearEndBalance  \\\n",
       "0                                 3.343530e+08   \n",
       "1                                 4.317420e+09   \n",
       "2                                 1.311888e+09   \n",
       "3                                          NaN   \n",
       "4                                 2.711921e+08   \n",
       "\n",
       "   TotalLiabilitiesOwnersEquity_YearStartBalance  sum_AccountBalance_Normal  \\\n",
       "0                                   1.399637e+08                 154.581469   \n",
       "1                                   3.903925e+09              155983.274620   \n",
       "2                                   2.378234e+08               48811.166249   \n",
       "3                                            NaN                   0.000000   \n",
       "4                                   4.462554e+08                1815.095256   \n",
       "\n",
       "   sum_AvailableBalance_Normal   Capital  \n",
       "0                   154.581469    3000.0  \n",
       "1                136983.274620  135000.0  \n",
       "2                  5810.586401    2000.0  \n",
       "3                     0.000000       NaN  \n",
       "4                  1815.095256    2000.0  \n",
       "\n",
       "[5 rows x 28 columns]"
      ]
     },
     "execution_count": 12,
     "metadata": {},
     "output_type": "execute_result"
    }
   ],
   "source": [
    "#df.head()"
   ]
  },
  {
   "cell_type": "code",
   "execution_count": 8,
   "metadata": {},
   "outputs": [],
   "source": [
    "#将nan空值用0代替\n",
    "df = df.replace(np.nan,0)\n",
    "# df['sum_DebtBalance'].isnull()"
   ]
  },
  {
   "cell_type": "code",
   "execution_count": 9,
   "metadata": {},
   "outputs": [],
   "source": [
    "#数据正标准化\n",
    "# from sklearn.preprocessing import MinMaxScaler\n",
    "# scaler=MinMaxScaler()\n",
    "# data_zero=pd.DataFrame(scaler.fit_transform(df),columns=df.columns.values.tolist())"
   ]
  },
  {
   "cell_type": "code",
   "execution_count": 10,
   "metadata": {},
   "outputs": [],
   "source": [
    "#数据[0,1]正标准化\n",
    "def MaxMinNormalization(x):\n",
    "    \"\"\"[0,1]normalization\"\"\"\n",
    "    x=(x-np.min(x))/(np.max(x)-np.min(x))\n",
    "    return x"
   ]
  },
  {
   "cell_type": "code",
   "execution_count": 11,
   "metadata": {},
   "outputs": [],
   "source": [
    "#数据[0,1]负标准化\n",
    "def MinMaxNormalization(y):\n",
    "    \"\"\"[0,1]normalization\"\"\"\n",
    "    y=(np.max(y)-y)/(np.max(y)-np.min(y))\n",
    "    return y"
   ]
  },
  {
   "cell_type": "code",
   "execution_count": 12,
   "metadata": {},
   "outputs": [],
   "source": [
    "a=['sum_FinanceMoney','sum_DebtBalance','sum_OperationalDebt_FinanceMoney','sum_ImplicitDebt_FinanceMoney',\n",
    "'sum_OperationalDebt_DebtBalance','sum_ImplicitDebt_DebtBalance',\n",
    "'sum_CreateAudit_FinanceMoney',\n",
    "'sum_CreateAudit_DebtBalance',\n",
    "'sum_StockDebt_FinanceMoney','sum_DirectFinance_FinanceMoney','sum_Others_FinanceMoney',\n",
    "'sum_DirectFinance_DebtBalance','sum_Others_DebtBalance','sum_WithdrawMoney',\n",
    "'LiabilitiesTotal_YearEndBalance','LiabilitiesTotal_YearStartBalance']\n",
    "b=['CurrentAssets_YearEndBalance',\n",
    "'CurrentAssets_YearStartBalance','NotCurrentAssets_YearEndBalance','NotCurrentAssets_YearStartBalance',\n",
    "'AssetsTotal_YearEndBalance','AssetsTotal_YearStartBalance',\n",
    "'TotalOwnersEquity_YearEndBalance',\n",
    "'TotalLiabilitiesOwnersEquity_YearEndBalance','TotalLiabilitiesOwnersEquity_YearStartBalance',\n",
    "'sum_AccountBalance_Normal','sum_AvailableBalance_Normal','Capital']\n"
   ]
  },
  {
   "cell_type": "code",
   "execution_count": 13,
   "metadata": {
    "scrolled": false
   },
   "outputs": [],
   "source": [
    "df[a]=MaxMinNormalization(df[a])"
   ]
  },
  {
   "cell_type": "code",
   "execution_count": 14,
   "metadata": {},
   "outputs": [],
   "source": [
    "df[b]=MinMaxNormalization(df[b])"
   ]
  },
  {
   "cell_type": "code",
   "execution_count": 40,
   "metadata": {
    "collapsed": true
   },
   "outputs": [
    {
     "name": "stdout",
     "output_type": "stream",
     "text": [
      "Looking in indexes: https://pypi.tuna.tsinghua.edu.cn/simple\n",
      "Collecting openpyxl\n",
      "  Downloading https://pypi.tuna.tsinghua.edu.cn/packages/f9/d8/be9dc2b17ba47f1db9032ed7e19915145b4c093f66bb36f0d919d2dc8ccf/openpyxl-3.0.4-py2.py3-none-any.whl (241 kB)\n",
      "Collecting jdcal\n",
      "Note: you may need to restart the kernel to use updated packages.\n",
      "  Downloading https://pypi.tuna.tsinghua.edu.cn/packages/f0/da/572cbc0bc582390480bbd7c4e93d14dc46079778ed915b505dc494b37c57/jdcal-1.4.1-py2.py3-none-any.whl (9.5 kB)\n",
      "Collecting et-xmlfile\n",
      "  Downloading https://pypi.tuna.tsinghua.edu.cn/packages/22/28/a99c42aea746e18382ad9fb36f64c1c1f04216f41797f2f0fa567da11388/et_xmlfile-1.0.1.tar.gz (8.4 kB)\n",
      "Building wheels for collected packages: et-xmlfile\n",
      "  Building wheel for et-xmlfile (setup.py): started\n",
      "  Building wheel for et-xmlfile (setup.py): finished with status 'done'\n",
      "  Created wheel for et-xmlfile: filename=et_xmlfile-1.0.1-py3-none-any.whl size=8920 sha256=3f52e09a6c547be0ba8fa5be1018fecfa23e396876af74277770398f31224a4d\n",
      "  Stored in directory: c:\\users\\user\\appdata\\local\\pip\\cache\\wheels\\d2\\f0\\fd\\de5146d51c28509397e8089f309a7d9af6d96daf0ab8c49f11\n",
      "Successfully built et-xmlfile\n",
      "Installing collected packages: jdcal, et-xmlfile, openpyxl\n",
      "Successfully installed et-xmlfile-1.0.1 jdcal-1.4.1 openpyxl-3.0.4\n"
     ]
    }
   ],
   "source": [
    "#导出Excel文件所需的包\n",
    "pip install openpyxl\n",
    "import openpyxl"
   ]
  },
  {
   "cell_type": "code",
   "execution_count": 42,
   "metadata": {},
   "outputs": [],
   "source": [
    "outputpath=r'F:\\债务\\代码\\resoult\\df.xlsx'\n",
    "df.to_excel(outputpath,index=False,header=True)"
   ]
  },
  {
   "cell_type": "code",
   "execution_count": 15,
   "metadata": {},
   "outputs": [],
   "source": [
    "data_zero=df"
   ]
  },
  {
   "cell_type": "code",
   "execution_count": 18,
   "metadata": {},
   "outputs": [],
   "source": [
    "df_corr=data_zero.corr()\n",
    "#print(\"\\n相关系数:\\n\",df_corr)"
   ]
  },
  {
   "cell_type": "code",
   "execution_count": 45,
   "metadata": {},
   "outputs": [],
   "source": [
    "# outputpath=r'F:\\债务\\代码\\resoult\\df_corr.xlsx'\n",
    "# df_corr.to_excel(outputpath,index=True,header=True)"
   ]
  },
  {
   "cell_type": "code",
   "execution_count": 19,
   "metadata": {},
   "outputs": [
    {
     "data": {
      "image/png": "[encoded data removed]",
      "text/plain": [
       "<Figure size 432x288 with 2 Axes>"
      ]
     },
     "metadata": {
      "needs_background": "light"
     },
     "output_type": "display_data"
    }
   ],
   "source": [
    "from matplotlib import cm\n",
    "import matplotlib.pyplot as plt\n",
    "cmap = cm.Blues\n",
    "fig=plt.figure()\n",
    "ax=fig.add_subplot(111)\n",
    "map = ax.imshow(df_corr, interpolation='nearest', cmap=cmap, vmin=0, vmax=1)\n",
    "plt.title('correlation coefficient--headmap')\n",
    "ax.set_yticks(range(len(df_corr.columns)))\n",
    "ax.set_yticklabels(df_corr.columns)\n",
    "ax.set_xticks(range(len(df_corr)))\n",
    "ax.set_xticklabels(df_corr.columns)\n",
    "plt.colorbar(map)\n",
    "plt.show()"
   ]
  },
  {
   "cell_type": "code",
   "execution_count": 47,
   "metadata": {},
   "outputs": [
    {
     "name": "stdout",
     "output_type": "stream",
     "text": [
      "Looking in indexes: https://pypi.tuna.tsinghua.edu.cn/simple\n",
      "Requirement already satisfied: factor_analyzer in c:\\users\\user\\anaconda3\\envs\\yn\\lib\\site-packages (0.3.2)\n",
      "Requirement already satisfied: scikit-learn in c:\\users\\user\\anaconda3\\envs\\yn\\lib\\site-packages (from factor_analyzer) (0.22.2.post1)\n",
      "Requirement already satisfied: pandas in c:\\users\\user\\anaconda3\\envs\\yn\\lib\\site-packages (from factor_analyzer) (1.0.3)\n",
      "Requirement already satisfied: numpy in c:\\users\\user\\anaconda3\\envs\\yn\\lib\\site-packages (from factor_analyzer) (1.18.1)\n",
      "Requirement already satisfied: scipy in c:\\users\\user\\anaconda3\\envs\\yn\\lib\\site-packages (from factor_analyzer) (1.1.0)\n",
      "Requirement already satisfied: joblib>=0.11 in c:\\users\\user\\anaconda3\\envs\\yn\\lib\\site-packages (from scikit-learn->factor_analyzer) (0.15.1)\n",
      "Requirement already satisfied: python-dateutil>=2.6.1 in c:\\users\\user\\anaconda3\\envs\\yn\\lib\\site-packages (from pandas->factor_analyzer) (2.8.1)\n",
      "Requirement already satisfied: pytz>=2017.2 in c:\\users\\user\\anaconda3\\envs\\yn\\lib\\site-packages (from pandas->factor_analyzer) (2020.1)\n",
      "Requirement already satisfied: six>=1.5 in c:\\users\\user\\anaconda3\\envs\\yn\\lib\\site-packages (from python-dateutil>=2.6.1->pandas->factor_analyzer) (1.14.0)\n",
      "Note: you may need to restart the kernel to use updated packages.\n"
     ]
    }
   ],
   "source": [
    "pip install factor_analyzer"
   ]
  },
  {
   "cell_type": "code",
   "execution_count": 20,
   "metadata": {},
   "outputs": [],
   "source": [
    "from scipy.stats import bartlett\n",
    "from factor_analyzer import *\n",
    "from sklearn.cluster import KMeans\n",
    "import math as math"
   ]
  },
  {
   "cell_type": "code",
   "execution_count": 114,
   "metadata": {},
   "outputs": [
    {
     "name": "stdout",
     "output_type": "stream",
     "text": [
      "\n",
      "KMO测度: 0.839853949089343\n"
     ]
    }
   ],
   "source": [
    "  # KMO测度\n",
    "def kmo(dataset_corr):\n",
    "    corr_inv = np.linalg.inv(dataset_corr)\n",
    "    nrow_inv_corr, ncol_inv_corr = dataset_corr.shape\n",
    "    A = np.ones((nrow_inv_corr, ncol_inv_corr))\n",
    "    for i in range(0, nrow_inv_corr, 1):\n",
    "        for j in range(i, ncol_inv_corr, 1):\n",
    "            A[i,j] = -(corr_inv[i,j])/(math.sqrt(abs(corr_inv[i,i]*corr_inv[j,j])))\n",
    "            A[j,i] = A[i,j]\n",
    "    dataset_corr = np.asarray(dataset_corr)\n",
    "    kmo_num = np.sum(np.square(dataset_corr)) - np.sum(np.square(np.diagonal(A)))\n",
    "    kmo_denom = kmo_num + np.sum(np.square(A)) - np.sum(np.square(np.diagonal(A)))\n",
    "    kmo_value = kmo_num / kmo_denom\n",
    "    return kmo_value\n",
    "print(\"\\nKMO测度:\", kmo(df_corr))"
   ]
  },
  {
   "cell_type": "code",
   "execution_count": 115,
   "metadata": {},
   "outputs": [
    {
     "name": "stdout",
     "output_type": "stream",
     "text": [
      "\n",
      "巴特利特球形检验: BartlettResult(statistic=19.360031405050744, pvalue=0.8565118015572476)\n"
     ]
    }
   ],
   "source": [
    "#巴特利特球形检验\n",
    "from scipy.stats import bartlett\n",
    "df_corr1=df_corr.values\n",
    "print(\"\\n巴特利特球形检验:\",\n",
    "      bartlett(df_corr1[0],df_corr1[1],df_corr1[2],df_corr1[3],df_corr1[4],df_corr1[5],df_corr1[6],df_corr1[7],df_corr1[8]\n",
    "    ,df_corr1[9],df_corr1[10],df_corr1[11],df_corr1[12],df_corr1[13],df_corr1[14],df_corr1[15],df_corr1[16],df_corr1[17]\n",
    "    ,df_corr1[18],df_corr1[19],df_corr1[20],df_corr1[21],df_corr1[22],df_corr1[23],df_corr1[24],df_corr1[25],df_corr1[26]\n",
    "    ,df_corr1[27]))"
   ]
  },
  {
   "cell_type": "code",
   "execution_count": 56,
   "metadata": {},
   "outputs": [
    {
     "data": {
      "text/plain": [
       "(81591.83979301223, 0.0)"
      ]
     },
     "execution_count": 56,
     "metadata": {},
     "output_type": "execute_result"
    }
   ],
   "source": [
    "#巴特利特球形检验\n",
    "# from factor_analyzer.factor_analyzer import calculate_bartlett_sphericity\n",
    "# chi_square_value,p_value=calculate_bartlett_sphericity(df1)\n",
    "# chi_square_value, p_value"
   ]
  },
  {
   "cell_type": "code",
   "execution_count": 126,
   "metadata": {},
   "outputs": [
    {
     "name": "stdout",
     "output_type": "stream",
     "text": [
      "0.8396109118650911\n"
     ]
    },
    {
     "name": "stderr",
     "output_type": "stream",
     "text": [
      "C:\\Users\\user\\Anaconda3\\envs\\yn\\lib\\site-packages\\factor_analyzer\\utils.py:248: UserWarning: The inverse of the variance-covariance matrix was calculated using the Moore-Penrose generalized matrix inversion, due to its determinant being at or very close to zero.\n",
      "  warnings.warn('The inverse of the variance-covariance matrix '\n"
     ]
    }
   ],
   "source": [
    "# KMO测度\n",
    "# from factor_analyzer.factor_analyzer import calculate_kmo\n",
    "# kmo_all,kmo_model=calculate_kmo(data_zero)\n",
    "# print(kmo_model)"
   ]
  },
  {
   "cell_type": "code",
   "execution_count": 116,
   "metadata": {},
   "outputs": [
    {
     "name": "stdout",
     "output_type": "stream",
     "text": [
      "\n",
      "特征值排序：\n",
      " [15.756986879188853, 4.950617102235386, 2.0321796857232415, 1.383035005475223, 0.7872083595133216, 0.6729651585704097, 0.5416239543036914, 0.42850971648892255, 0.34431257297055456, 0.23798229475330956, 0.17962441911154356, 0.15878150719542675, 0.15003455028184282, 0.09014846873438247, 0.08888131242098471, 0.0560587289841324, 0.04373619601631241, 0.028994856701037228, 0.01801416965572697, 0.013304512784935245, 0.010403703657699456, 0.00748714222182351, 0.0066833899310674355, 0.004541803292640439, 0.003584724164631458, 0.003073438520854119, 0.0010878812094329874, 0.00013846589264119324]\n"
     ]
    }
   ],
   "source": [
    "# 求特征值和特征向量\n",
    "eig_value, eigvector = nlg.eig(df_corr)  # 求矩阵R的全部特征值，构成向量\n",
    "\n",
    "#查看特征\n",
    "# eig = pd.DataFrame()\n",
    "# eig['names'] = DF2.columns\n",
    "# eig['e'] = e\n",
    "\n",
    "\n",
    "eig=sorted(eig_value,reverse=True)        #贡献率排序（True降序）\n",
    "print(\"\\n特征值排序：\\n\",eig)"
   ]
  },
  {
   "cell_type": "code",
   "execution_count": 117,
   "metadata": {},
   "outputs": [
    {
     "name": "stdout",
     "output_type": "stream",
     "text": [
      "\n",
      "公因子个数: 4\n"
     ]
    }
   ],
   "source": [
    " # 求公因子个数m,使用前m个特征值的比重，即累计方差贡献率大于85%的标准，选出了公共因子是4个\n",
    "for m in range(1,len(eig)):\n",
    "    if sum(eig[:m]) / sum(eig) >= 0.85:\n",
    "        print(\"\\n公因子个数:\", m)\n",
    "        break"
   ]
  },
  {
   "cell_type": "code",
   "execution_count": 21,
   "metadata": {},
   "outputs": [
    {
     "data": {
      "text/plain": [
       "FactorAnalyzer(bounds=(0.005, 1), impute='median', is_corr_matrix=False,\n",
       "        method='principal', n_factors=4, rotation='varimax',\n",
       "        rotation_kwargs={}, use_smc=True)"
      ]
     },
     "execution_count": 21,
     "metadata": {},
     "output_type": "execute_result"
    }
   ],
   "source": [
    "#用主成分方法求因子载荷矩阵(成分矩阵)，旋转方差最大化\n",
    "fa = FactorAnalyzer(n_factors=4, method='principal' , rotation='varimax')\n",
    "fa.fit(data_zero)"
   ]
  },
  {
   "cell_type": "code",
   "execution_count": 22,
   "metadata": {},
   "outputs": [
    {
     "data": {
      "text/plain": [
       "['fa_company.pkl']"
      ]
     },
     "execution_count": 22,
     "metadata": {},
     "output_type": "execute_result"
    }
   ],
   "source": [
    "from sklearn.externals import joblib\n",
    "joblib.dump(fa, 'fa_company.pkl')\n",
    "# joblib.load('fa.pkl')\n",
    "\n",
    "#fa = FactorAnalyzer(n_factors=5 , method='principal' , rotation='varimax')"
   ]
  },
  {
   "cell_type": "code",
   "execution_count": 25,
   "metadata": {},
   "outputs": [],
   "source": [
    "b=joblib.load('fa.pkl')"
   ]
  },
  {
   "cell_type": "code",
   "execution_count": 26,
   "metadata": {
    "scrolled": true
   },
   "outputs": [
    {
     "data": {
      "text/plain": [
       "array([[-0.19520283,  0.52012441,  0.533848  ,  0.61841325],\n",
       "       [-0.11894094,  0.45308382,  0.51506458,  0.67915805],\n",
       "       [-0.17691468,  0.89550734,  0.15947147,  0.19353144],\n",
       "       [-0.32681996,  0.28928817,  0.67165197,  0.45709758],\n",
       "       [-0.27529596,  0.89219448,  0.14445697,  0.13087711],\n",
       "       [-0.19621419,  0.21857602,  0.77022319,  0.40296369],\n",
       "       [-0.21141051,  0.53973573,  0.48803812,  0.61982309],\n",
       "       [-0.12579004,  0.46394637,  0.47325047,  0.68906151],\n",
       "       [-0.22585471,  0.57352133,  0.59965454,  0.40167515],\n",
       "       [-0.27025096,  0.1065516 ,  0.11839391,  0.87817766],\n",
       "       [-0.13763731,  0.86919508,  0.34315944,  0.15184041],\n",
       "       [-0.04583059,  0.03440512,  0.08457177,  0.92411028],\n",
       "       [-0.25686678,  0.85559561,  0.28371701,  0.10045509],\n",
       "       [-0.16559411,  0.56587816,  0.67764801,  0.36170587],\n",
       "       [ 0.90420998, -0.1226177 , -0.26892785, -0.06203638],\n",
       "       [ 0.89989771, -0.1092607 , -0.26633067, -0.06820098],\n",
       "       [ 0.71989144, -0.2510247 ,  0.06899834, -0.17485195],\n",
       "       [ 0.8209844 , -0.27545565,  0.04535524, -0.20267558],\n",
       "       [ 0.9427517 , -0.17121664, -0.19818667, -0.10391361],\n",
       "       [ 0.94460345, -0.15776532, -0.20156504, -0.11121692],\n",
       "       [-0.88722427,  0.1601921 ,  0.20948796,  0.08991254],\n",
       "       [-0.75235331,  0.09880925,  0.16314348,  0.07587071],\n",
       "       [ 0.71664033, -0.13028245, -0.14056611, -0.07508877],\n",
       "       [ 0.9122604 , -0.17322065, -0.189784  , -0.10043757],\n",
       "       [ 0.94152547, -0.16828519, -0.19758623, -0.11383391],\n",
       "       [ 0.28810016, -0.24226172, -0.80590301, -0.04792872],\n",
       "       [ 0.28612092, -0.28001879, -0.78794654, -0.07161917],\n",
       "       [ 0.41318785, -0.72855837, -0.29515984, -0.10617171]])"
      ]
     },
     "execution_count": 26,
     "metadata": {},
     "output_type": "execute_result"
    }
   ],
   "source": [
    "b.loadings_"
   ]
  },
  {
   "cell_type": "code",
   "execution_count": 27,
   "metadata": {},
   "outputs": [],
   "source": [
    "bb=joblib.load('fa1.pkl')"
   ]
  },
  {
   "cell_type": "code",
   "execution_count": 28,
   "metadata": {},
   "outputs": [
    {
     "data": {
      "text/plain": [
       "array([[-0.19520283,  0.52012441,  0.533848  ,  0.61841325],\n",
       "       [-0.11894094,  0.45308382,  0.51506458,  0.67915805],\n",
       "       [-0.17691468,  0.89550734,  0.15947147,  0.19353144],\n",
       "       [-0.32681996,  0.28928817,  0.67165197,  0.45709758],\n",
       "       [-0.27529596,  0.89219448,  0.14445697,  0.13087711],\n",
       "       [-0.19621419,  0.21857602,  0.77022319,  0.40296369],\n",
       "       [-0.21141051,  0.53973573,  0.48803812,  0.61982309],\n",
       "       [-0.12579004,  0.46394637,  0.47325047,  0.68906151],\n",
       "       [-0.22585471,  0.57352133,  0.59965454,  0.40167515],\n",
       "       [-0.27025096,  0.1065516 ,  0.11839391,  0.87817766],\n",
       "       [-0.13763731,  0.86919508,  0.34315944,  0.15184041],\n",
       "       [-0.04583059,  0.03440512,  0.08457177,  0.92411028],\n",
       "       [-0.25686678,  0.85559561,  0.28371701,  0.10045509],\n",
       "       [-0.16559411,  0.56587816,  0.67764801,  0.36170587],\n",
       "       [ 0.90420998, -0.1226177 , -0.26892785, -0.06203638],\n",
       "       [ 0.89989771, -0.1092607 , -0.26633067, -0.06820098],\n",
       "       [ 0.71989144, -0.2510247 ,  0.06899834, -0.17485195],\n",
       "       [ 0.8209844 , -0.27545565,  0.04535524, -0.20267558],\n",
       "       [ 0.9427517 , -0.17121664, -0.19818667, -0.10391361],\n",
       "       [ 0.94460345, -0.15776532, -0.20156504, -0.11121692],\n",
       "       [-0.88722427,  0.1601921 ,  0.20948796,  0.08991254],\n",
       "       [-0.75235331,  0.09880925,  0.16314348,  0.07587071],\n",
       "       [ 0.71664033, -0.13028245, -0.14056611, -0.07508877],\n",
       "       [ 0.9122604 , -0.17322065, -0.189784  , -0.10043757],\n",
       "       [ 0.94152547, -0.16828519, -0.19758623, -0.11383391],\n",
       "       [ 0.28810016, -0.24226172, -0.80590301, -0.04792872],\n",
       "       [ 0.28612092, -0.28001879, -0.78794654, -0.07161917],\n",
       "       [ 0.41318785, -0.72855837, -0.29515984, -0.10617171]])"
      ]
     },
     "execution_count": 28,
     "metadata": {},
     "output_type": "execute_result"
    }
   ],
   "source": [
    "bb.loadings_"
   ]
  },
  {
   "cell_type": "code",
   "execution_count": 63,
   "metadata": {
    "scrolled": true
   },
   "outputs": [
    {
     "data": {
      "text/html": [
       "<div>\n",
       "<style scoped>\n",
       "    .dataframe tbody tr th:only-of-type {\n",
       "        vertical-align: middle;\n",
       "    }\n",
       "\n",
       "    .dataframe tbody tr th {\n",
       "        vertical-align: top;\n",
       "    }\n",
       "\n",
       "    .dataframe thead th {\n",
       "        text-align: right;\n",
       "    }\n",
       "</style>\n",
       "<table border=\"1\" class=\"dataframe\">\n",
       "  <thead>\n",
       "    <tr style=\"text-align: right;\">\n",
       "      <th></th>\n",
       "      <th>factor1</th>\n",
       "      <th>factor2</th>\n",
       "      <th>factor3</th>\n",
       "      <th>factor4</th>\n",
       "    </tr>\n",
       "  </thead>\n",
       "  <tbody>\n",
       "    <tr>\n",
       "      <th>sum_FinanceMoney</th>\n",
       "      <td>-0.195203</td>\n",
       "      <td>0.520124</td>\n",
       "      <td>0.533848</td>\n",
       "      <td>0.618413</td>\n",
       "    </tr>\n",
       "    <tr>\n",
       "      <th>sum_DebtBalance</th>\n",
       "      <td>-0.118941</td>\n",
       "      <td>0.453084</td>\n",
       "      <td>0.515065</td>\n",
       "      <td>0.679158</td>\n",
       "    </tr>\n",
       "    <tr>\n",
       "      <th>sum_OperationalDebt_FinanceMoney</th>\n",
       "      <td>-0.176915</td>\n",
       "      <td>0.895507</td>\n",
       "      <td>0.159471</td>\n",
       "      <td>0.193531</td>\n",
       "    </tr>\n",
       "    <tr>\n",
       "      <th>sum_ImplicitDebt_FinanceMoney</th>\n",
       "      <td>-0.326820</td>\n",
       "      <td>0.289288</td>\n",
       "      <td>0.671652</td>\n",
       "      <td>0.457098</td>\n",
       "    </tr>\n",
       "    <tr>\n",
       "      <th>sum_OperationalDebt_DebtBalance</th>\n",
       "      <td>-0.275296</td>\n",
       "      <td>0.892194</td>\n",
       "      <td>0.144457</td>\n",
       "      <td>0.130877</td>\n",
       "    </tr>\n",
       "    <tr>\n",
       "      <th>sum_ImplicitDebt_DebtBalance</th>\n",
       "      <td>-0.196214</td>\n",
       "      <td>0.218576</td>\n",
       "      <td>0.770223</td>\n",
       "      <td>0.402964</td>\n",
       "    </tr>\n",
       "    <tr>\n",
       "      <th>sum_CreateAudit_FinanceMoney</th>\n",
       "      <td>-0.211411</td>\n",
       "      <td>0.539736</td>\n",
       "      <td>0.488038</td>\n",
       "      <td>0.619823</td>\n",
       "    </tr>\n",
       "    <tr>\n",
       "      <th>sum_CreateAudit_DebtBalance</th>\n",
       "      <td>-0.125790</td>\n",
       "      <td>0.463946</td>\n",
       "      <td>0.473250</td>\n",
       "      <td>0.689062</td>\n",
       "    </tr>\n",
       "    <tr>\n",
       "      <th>sum_StockDebt_FinanceMoney</th>\n",
       "      <td>-0.225855</td>\n",
       "      <td>0.573521</td>\n",
       "      <td>0.599655</td>\n",
       "      <td>0.401675</td>\n",
       "    </tr>\n",
       "    <tr>\n",
       "      <th>sum_DirectFinance_FinanceMoney</th>\n",
       "      <td>-0.270251</td>\n",
       "      <td>0.106552</td>\n",
       "      <td>0.118394</td>\n",
       "      <td>0.878178</td>\n",
       "    </tr>\n",
       "    <tr>\n",
       "      <th>sum_Others_FinanceMoney</th>\n",
       "      <td>-0.137637</td>\n",
       "      <td>0.869195</td>\n",
       "      <td>0.343159</td>\n",
       "      <td>0.151840</td>\n",
       "    </tr>\n",
       "    <tr>\n",
       "      <th>sum_DirectFinance_DebtBalance</th>\n",
       "      <td>-0.045831</td>\n",
       "      <td>0.034405</td>\n",
       "      <td>0.084572</td>\n",
       "      <td>0.924110</td>\n",
       "    </tr>\n",
       "    <tr>\n",
       "      <th>sum_Others_DebtBalance</th>\n",
       "      <td>-0.256867</td>\n",
       "      <td>0.855596</td>\n",
       "      <td>0.283717</td>\n",
       "      <td>0.100455</td>\n",
       "    </tr>\n",
       "    <tr>\n",
       "      <th>sum_WithdrawMoney</th>\n",
       "      <td>-0.165594</td>\n",
       "      <td>0.565878</td>\n",
       "      <td>0.677648</td>\n",
       "      <td>0.361706</td>\n",
       "    </tr>\n",
       "    <tr>\n",
       "      <th>CurrentAssets_YearEndBalance</th>\n",
       "      <td>0.904210</td>\n",
       "      <td>-0.122618</td>\n",
       "      <td>-0.268928</td>\n",
       "      <td>-0.062036</td>\n",
       "    </tr>\n",
       "    <tr>\n",
       "      <th>CurrentAssets_YearStartBalance</th>\n",
       "      <td>0.899898</td>\n",
       "      <td>-0.109261</td>\n",
       "      <td>-0.266331</td>\n",
       "      <td>-0.068201</td>\n",
       "    </tr>\n",
       "    <tr>\n",
       "      <th>NotCurrentAssets_YearEndBalance</th>\n",
       "      <td>0.719891</td>\n",
       "      <td>-0.251025</td>\n",
       "      <td>0.068998</td>\n",
       "      <td>-0.174852</td>\n",
       "    </tr>\n",
       "    <tr>\n",
       "      <th>NotCurrentAssets_YearStartBalance</th>\n",
       "      <td>0.820984</td>\n",
       "      <td>-0.275456</td>\n",
       "      <td>0.045355</td>\n",
       "      <td>-0.202676</td>\n",
       "    </tr>\n",
       "    <tr>\n",
       "      <th>AssetsTotal_YearEndBalance</th>\n",
       "      <td>0.942752</td>\n",
       "      <td>-0.171217</td>\n",
       "      <td>-0.198187</td>\n",
       "      <td>-0.103914</td>\n",
       "    </tr>\n",
       "    <tr>\n",
       "      <th>AssetsTotal_YearStartBalance</th>\n",
       "      <td>0.944603</td>\n",
       "      <td>-0.157765</td>\n",
       "      <td>-0.201565</td>\n",
       "      <td>-0.111217</td>\n",
       "    </tr>\n",
       "    <tr>\n",
       "      <th>LiabilitiesTotal_YearEndBalance</th>\n",
       "      <td>-0.887224</td>\n",
       "      <td>0.160192</td>\n",
       "      <td>0.209488</td>\n",
       "      <td>0.089913</td>\n",
       "    </tr>\n",
       "    <tr>\n",
       "      <th>LiabilitiesTotal_YearStartBalance</th>\n",
       "      <td>-0.752353</td>\n",
       "      <td>0.098809</td>\n",
       "      <td>0.163143</td>\n",
       "      <td>0.075871</td>\n",
       "    </tr>\n",
       "    <tr>\n",
       "      <th>TotalOwnersEquity_YearEndBalance</th>\n",
       "      <td>0.716640</td>\n",
       "      <td>-0.130282</td>\n",
       "      <td>-0.140566</td>\n",
       "      <td>-0.075089</td>\n",
       "    </tr>\n",
       "    <tr>\n",
       "      <th>TotalLiabilitiesOwnersEquity_YearEndBalance</th>\n",
       "      <td>0.912260</td>\n",
       "      <td>-0.173221</td>\n",
       "      <td>-0.189784</td>\n",
       "      <td>-0.100438</td>\n",
       "    </tr>\n",
       "    <tr>\n",
       "      <th>TotalLiabilitiesOwnersEquity_YearStartBalance</th>\n",
       "      <td>0.941525</td>\n",
       "      <td>-0.168285</td>\n",
       "      <td>-0.197586</td>\n",
       "      <td>-0.113834</td>\n",
       "    </tr>\n",
       "    <tr>\n",
       "      <th>sum_AccountBalance_Normal</th>\n",
       "      <td>0.288100</td>\n",
       "      <td>-0.242262</td>\n",
       "      <td>-0.805903</td>\n",
       "      <td>-0.047929</td>\n",
       "    </tr>\n",
       "    <tr>\n",
       "      <th>sum_AvailableBalance_Normal</th>\n",
       "      <td>0.286121</td>\n",
       "      <td>-0.280019</td>\n",
       "      <td>-0.787947</td>\n",
       "      <td>-0.071619</td>\n",
       "    </tr>\n",
       "    <tr>\n",
       "      <th>Capital</th>\n",
       "      <td>0.413188</td>\n",
       "      <td>-0.728558</td>\n",
       "      <td>-0.295160</td>\n",
       "      <td>-0.106172</td>\n",
       "    </tr>\n",
       "  </tbody>\n",
       "</table>\n",
       "</div>"
      ],
      "text/plain": [
       "                                                factor1   factor2   factor3  \\\n",
       "sum_FinanceMoney                              -0.195203  0.520124  0.533848   \n",
       "sum_DebtBalance                               -0.118941  0.453084  0.515065   \n",
       "sum_OperationalDebt_FinanceMoney              -0.176915  0.895507  0.159471   \n",
       "sum_ImplicitDebt_FinanceMoney                 -0.326820  0.289288  0.671652   \n",
       "sum_OperationalDebt_DebtBalance               -0.275296  0.892194  0.144457   \n",
       "sum_ImplicitDebt_DebtBalance                  -0.196214  0.218576  0.770223   \n",
       "sum_CreateAudit_FinanceMoney                  -0.211411  0.539736  0.488038   \n",
       "sum_CreateAudit_DebtBalance                   -0.125790  0.463946  0.473250   \n",
       "sum_StockDebt_FinanceMoney                    -0.225855  0.573521  0.599655   \n",
       "sum_DirectFinance_FinanceMoney                -0.270251  0.106552  0.118394   \n",
       "sum_Others_FinanceMoney                       -0.137637  0.869195  0.343159   \n",
       "sum_DirectFinance_DebtBalance                 -0.045831  0.034405  0.084572   \n",
       "sum_Others_DebtBalance                        -0.256867  0.855596  0.283717   \n",
       "sum_WithdrawMoney                             -0.165594  0.565878  0.677648   \n",
       "CurrentAssets_YearEndBalance                   0.904210 -0.122618 -0.268928   \n",
       "CurrentAssets_YearStartBalance                 0.899898 -0.109261 -0.266331   \n",
       "NotCurrentAssets_YearEndBalance                0.719891 -0.251025  0.068998   \n",
       "NotCurrentAssets_YearStartBalance              0.820984 -0.275456  0.045355   \n",
       "AssetsTotal_YearEndBalance                     0.942752 -0.171217 -0.198187   \n",
       "AssetsTotal_YearStartBalance                   0.944603 -0.157765 -0.201565   \n",
       "LiabilitiesTotal_YearEndBalance               -0.887224  0.160192  0.209488   \n",
       "LiabilitiesTotal_YearStartBalance             -0.752353  0.098809  0.163143   \n",
       "TotalOwnersEquity_YearEndBalance               0.716640 -0.130282 -0.140566   \n",
       "TotalLiabilitiesOwnersEquity_YearEndBalance    0.912260 -0.173221 -0.189784   \n",
       "TotalLiabilitiesOwnersEquity_YearStartBalance  0.941525 -0.168285 -0.197586   \n",
       "sum_AccountBalance_Normal                      0.288100 -0.242262 -0.805903   \n",
       "sum_AvailableBalance_Normal                    0.286121 -0.280019 -0.787947   \n",
       "Capital                                        0.413188 -0.728558 -0.295160   \n",
       "\n",
       "                                                factor4  \n",
       "sum_FinanceMoney                               0.618413  \n",
       "sum_DebtBalance                                0.679158  \n",
       "sum_OperationalDebt_FinanceMoney               0.193531  \n",
       "sum_ImplicitDebt_FinanceMoney                  0.457098  \n",
       "sum_OperationalDebt_DebtBalance                0.130877  \n",
       "sum_ImplicitDebt_DebtBalance                   0.402964  \n",
       "sum_CreateAudit_FinanceMoney                   0.619823  \n",
       "sum_CreateAudit_DebtBalance                    0.689062  \n",
       "sum_StockDebt_FinanceMoney                     0.401675  \n",
       "sum_DirectFinance_FinanceMoney                 0.878178  \n",
       "sum_Others_FinanceMoney                        0.151840  \n",
       "sum_DirectFinance_DebtBalance                  0.924110  \n",
       "sum_Others_DebtBalance                         0.100455  \n",
       "sum_WithdrawMoney                              0.361706  \n",
       "CurrentAssets_YearEndBalance                  -0.062036  \n",
       "CurrentAssets_YearStartBalance                -0.068201  \n",
       "NotCurrentAssets_YearEndBalance               -0.174852  \n",
       "NotCurrentAssets_YearStartBalance             -0.202676  \n",
       "AssetsTotal_YearEndBalance                    -0.103914  \n",
       "AssetsTotal_YearStartBalance                  -0.111217  \n",
       "LiabilitiesTotal_YearEndBalance                0.089913  \n",
       "LiabilitiesTotal_YearStartBalance              0.075871  \n",
       "TotalOwnersEquity_YearEndBalance              -0.075089  \n",
       "TotalLiabilitiesOwnersEquity_YearEndBalance   -0.100438  \n",
       "TotalLiabilitiesOwnersEquity_YearStartBalance -0.113834  \n",
       "sum_AccountBalance_Normal                     -0.047929  \n",
       "sum_AvailableBalance_Normal                   -0.071619  \n",
       "Capital                                       -0.106172  "
      ]
     },
     "execution_count": 63,
     "metadata": {},
     "output_type": "execute_result"
    }
   ],
   "source": [
    "#因子载荷矩阵(成分矩阵)fa.loadings_\n",
    "pd.DataFrame(fa.loadings_,index=df.columns.values.tolist(),columns=['factor1', 'factor2', 'factor3', 'factor4'])"
   ]
  },
  {
   "cell_type": "code",
   "execution_count": 119,
   "metadata": {},
   "outputs": [],
   "source": [
    "#因子旋转\n",
    "rotator = Rotator()\n",
    "factors=['factor1', 'factor2', 'factor3', 'factor4']\n",
    "columns=df.columns.values.tolist()\n",
    "rotator_maxtr=pd.DataFrame(rotator.fit_transform(fa.loadings_),index=columns,columns=factors)\n",
    "#print(rotator_maxtr)\n",
    "# outputpath=r'F:\\债务\\代码\\resoult\\rotator_maxtr.xlsx'\n",
    "# rotator_maxtr.to_excel(outputpath,index=True,header=True)"
   ]
  },
  {
   "cell_type": "code",
   "execution_count": 227,
   "metadata": {
    "scrolled": true
   },
   "outputs": [
    {
     "data": {
      "text/plain": [
       "array([0.97606218, 0.94597907, 0.89611776, 0.8505535 , 0.90979548,\n",
       "       0.84189898, 0.95837092, 0.92984113, 0.90086556, 0.86960194,\n",
       "       0.91525803, 0.86441634, 0.88861096, 0.93767746, 0.90880149,\n",
       "       0.89733719, 0.61659106, 0.79302568, 0.96817189, 0.97016324,\n",
       "       0.86479788, 0.60817093, 0.55594403, 0.9083301 , 0.96678859,\n",
       "       0.79346926, 0.78626476, 0.79991326])"
      ]
     },
     "execution_count": 227,
     "metadata": {},
     "output_type": "execute_result"
    }
   ],
   "source": [
    "#公因子方差 ， 特殊因子方差，因子的方差贡献度 ，反映公共因子对所有变量的贡献\n",
    "# fa.get_communalities()"
   ]
  },
  {
   "cell_type": "code",
   "execution_count": 139,
   "metadata": {
    "collapsed": true
   },
   "outputs": [
    {
     "name": "stdout",
     "output_type": "stream",
     "text": [
      "\n",
      "每个企业的因子得分：\n",
      "        factor1   factor2   factor3   factor4\n",
      "0     0.206767  0.051199  0.064648  0.038072\n",
      "1     1.122771  0.604828  1.017479  0.293456\n",
      "2     0.350334  0.119215  0.203944  0.054134\n",
      "3          NaN       NaN       NaN       NaN\n",
      "4     0.224331  0.062415  0.082208  0.044421\n",
      "...        ...       ...       ...       ...\n",
      "1103       NaN       NaN       NaN       NaN\n",
      "1104  0.356514  0.183535  0.399771  0.089631\n",
      "1105  0.173678  0.031836  0.040462  0.019365\n",
      "1106  1.072694  0.465557  0.768444  0.290582\n",
      "1107       NaN       NaN       NaN       NaN\n",
      "\n",
      "[1108 rows x 4 columns]\n"
     ]
    }
   ],
   "source": [
    "\n",
    "# fa_t_score = np.dot(np.mat(data_zero), np.mat(fa.loadings_))\n",
    "# score=pd.DataFrame(fa_t_score,columns=factors)\n",
    "# print(\"\\n每个企业的因子得分：\\n\",score)"
   ]
  },
  {
   "cell_type": "code",
   "execution_count": 121,
   "metadata": {},
   "outputs": [],
   "source": [
    "# 因子得分系数及企业因子得分\n",
    "X1 = np.mat(df_corr)\n",
    "X1 = nlg.inv(X1)\n",
    "b = np.mat(rotator_maxtr)\n",
    "factor_score = np.dot(X1, b)\n",
    "factor_score = pd.DataFrame(factor_score)\n",
    "factor_score.columns = ['factor1', 'factor2', 'factor3', 'factor4']\n",
    "factor_score.index = df_corr.columns\n",
    "# print(\"\\n因子得分：\\n\", factor_score)\n",
    "fa_t_score = np.dot(np.mat(data_zero), np.mat(factor_score))\n",
    "# print(\"\\n每个企业的因子得分:\\n\",pd.DataFrame(fa_t_score))"
   ]
  },
  {
   "cell_type": "code",
   "execution_count": 229,
   "metadata": {},
   "outputs": [],
   "source": [
    "# outputpath=r'F:\\债务\\代码\\resoult\\factor_score.xlsx'\n",
    "# factor_score.to_excel(outputpath,index=True,header=True)\n"
   ]
  },
  {
   "cell_type": "code",
   "execution_count": 230,
   "metadata": {},
   "outputs": [],
   "source": [
    "# outputpath=r'F:\\债务\\代码\\resoult\\rotator_maxtr.xlsx'\n",
    "# rotator_maxtr.to_excel(outputpath,index=True,header=True)\n"
   ]
  },
  {
   "cell_type": "code",
   "execution_count": 66,
   "metadata": {
    "scrolled": true
   },
   "outputs": [
    {
     "ename": "NameError",
     "evalue": "name 'var' is not defined",
     "output_type": "error",
     "traceback": [
      "\u001b[1;31m---------------------------------------------------------------------------\u001b[0m",
      "\u001b[1;31mNameError\u001b[0m                                 Traceback (most recent call last)",
      "\u001b[1;32m<ipython-input-66-e6821d025099>\u001b[0m in \u001b[0;36m<module>\u001b[1;34m\u001b[0m\n\u001b[1;32m----> 1\u001b[1;33m \u001b[0mweight\u001b[0m \u001b[1;33m=\u001b[0m \u001b[0mvar\u001b[0m\u001b[1;33m[\u001b[0m\u001b[1;36m1\u001b[0m\u001b[1;33m]\u001b[0m     \u001b[1;31m#计算每个因子的权重\u001b[0m\u001b[1;33m\u001b[0m\u001b[1;33m\u001b[0m\u001b[0m\n\u001b[0m\u001b[0;32m      2\u001b[0m \u001b[0mprint\u001b[0m\u001b[1;33m(\u001b[0m\u001b[0mweight\u001b[0m\u001b[1;33m)\u001b[0m\u001b[1;33m\u001b[0m\u001b[1;33m\u001b[0m\u001b[0m\n",
      "\u001b[1;31mNameError\u001b[0m: name 'var' is not defined"
     ]
    }
   ],
   "source": [
    "# weight = var[1]     #计算每个因子的权重\n",
    "# print(weight)"
   ]
  },
  {
   "cell_type": "code",
   "execution_count": 122,
   "metadata": {},
   "outputs": [],
   "source": [
    "# 给出贡献率,第一行表示特征值方差，第二行表示贡献率，第三行表示累计贡献率\n",
    "#该过程与上述求方差贡献率结果一致\n",
    "var = fa.get_factor_variance()  \n",
    "# for i in range(0,3):\n",
    "#     print(var[i])\n",
    "# print(var[0])"
   ]
  },
  {
   "cell_type": "code",
   "execution_count": 72,
   "metadata": {
    "scrolled": true
   },
   "outputs": [
    {
     "name": "stdout",
     "output_type": "stream",
     "text": [
      "0.8615292383079449\n"
     ]
    }
   ],
   "source": [
    "# print(var[2][3])"
   ]
  },
  {
   "cell_type": "code",
   "execution_count": 80,
   "metadata": {},
   "outputs": [
    {
     "name": "stdout",
     "output_type": "stream",
     "text": [
      "         score\n",
      "0     0.395112\n",
      "1     0.394180\n",
      "2     0.392341\n",
      "3     0.397832\n",
      "4     0.394862\n",
      "...        ...\n",
      "1103  0.399501\n",
      "1104  0.405240\n",
      "1105  0.395418\n",
      "1106  0.376579\n",
      "1107  0.395915\n",
      "\n",
      "[1108 rows x 1 columns]\n"
     ]
    }
   ],
   "source": [
    "# weight = var[1]\n",
    "# fa_t_score_final = (np.dot(fa_t_score, weight) / weight.sum())\n",
    "# # print(fa_t_score_final )\n",
    "# score_final=pd.DataFrame(np.transpose(fa_t_score_final),columns=[\"score\"])\n",
    "# # print(score_final)"
   ]
  },
  {
   "cell_type": "code",
   "execution_count": 124,
   "metadata": {},
   "outputs": [],
   "source": [
    "#综合得分(加权计算）\n",
    "weight = var[1]     #计算每个因子的权重\n",
    "fa_t_score_final = (np.dot(fa_t_score, weight) / weight.sum()).real\n",
    "score_final=pd.DataFrame(np.transpose(fa_t_score_final),columns=[\"score\"])\n",
    "out=pd.concat([df1,score_final],axis=1)\n"
   ]
  },
  {
   "cell_type": "code",
   "execution_count": 125,
   "metadata": {},
   "outputs": [],
   "source": [
    "outputpath=r'F:\\债务\\代码\\resoult\\out_1.xlsx'\n",
    "out.to_excel(outputpath,index=True,header=True)"
   ]
  }
 ],
 "metadata": {
  "kernelspec": {
   "display_name": "Python 3",
   "language": "python",
   "name": "python3"
  },
  "language_info": {
   "codemirror_mode": {
    "name": "ipython",
    "version": 3
   },
   "file_extension": ".py",
   "mimetype": "text/x-python",
   "name": "python",
   "nbconvert_exporter": "python",
   "pygments_lexer": "ipython3",
   "version": "3.6.9"
  },
  "toc": {
   "base_numbering": 1,
   "nav_menu": {},
   "number_sections": true,
   "sideBar": true,
   "skip_h1_title": false,
   "title_cell": "Table of Contents",
   "title_sidebar": "Contents",
   "toc_cell": false,
   "toc_position": {},
   "toc_section_display": true,
   "toc_window_display": false
  }
 },
 "nbformat": 4,
 "nbformat_minor": 2
}
